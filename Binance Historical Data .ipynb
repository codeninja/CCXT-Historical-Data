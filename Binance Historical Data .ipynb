{
 "cells": [
  {
   "cell_type": "markdown",
   "metadata": {},
   "source": [
    "# Fetch historical data"
   ]
  },
  {
   "cell_type": "markdown",
   "metadata": {},
   "source": [
    "Python script to fetch historical data from binance using ccxt"
   ]
  },
  {
   "cell_type": "code",
   "execution_count": 1,
   "metadata": {},
   "outputs": [
    {
     "name": "stdout",
     "output_type": "stream",
     "text": [
      "Collecting openpyxl\n",
      "Requirement already satisfied: ccxt in c:\\users\\codeninja\\anaconda3\\envs\\tensortrade_tf2\\lib\\site-packages (1.18.1249)\n",
      "Collecting jdcal (from openpyxl)\n",
      "  Using cached https://files.pythonhosted.org/packages/f0/da/572cbc0bc582390480bbd7c4e93d14dc46079778ed915b505dc494b37c57/jdcal-1.4.1-py2.py3-none-any.whl\n",
      "Collecting et-xmlfile (from openpyxl)\n",
      "Requirement already satisfied: requests>=2.18.4 in c:\\users\\codeninja\\anaconda3\\envs\\tensortrade_tf2\\lib\\site-packages (from ccxt) (2.22.0)\n",
      "Requirement already satisfied: setuptools>=38.5.1 in c:\\users\\codeninja\\anaconda3\\envs\\tensortrade_tf2\\lib\\site-packages (from ccxt) (41.4.0)\n",
      "Requirement already satisfied: aiodns==1.1.1; python_version >= \"3.5.2\" in c:\\users\\codeninja\\appdata\\roaming\\python\\python37\\site-packages (from ccxt) (1.1.1)\n",
      "Requirement already satisfied: yarl==1.1.0; python_version >= \"3.5.2\" in c:\\users\\codeninja\\appdata\\roaming\\python\\python37\\site-packages (from ccxt) (1.1.0)\n",
      "Requirement already satisfied: aiohttp>=3.0.1; python_version >= \"3.5.2\" in c:\\users\\codeninja\\appdata\\roaming\\python\\python37\\site-packages (from ccxt) (3.6.2)\n",
      "Requirement already satisfied: certifi>=2018.1.18 in c:\\users\\codeninja\\anaconda3\\envs\\tensortrade_tf2\\lib\\site-packages (from ccxt) (2019.9.11)\n",
      "Requirement already satisfied: cryptography>=2.6.1 in c:\\users\\codeninja\\appdata\\roaming\\python\\python37\\site-packages (from ccxt) (2.7)\n",
      "Requirement already satisfied: idna<2.9,>=2.5 in c:\\users\\codeninja\\anaconda3\\envs\\tensortrade_tf2\\lib\\site-packages (from requests>=2.18.4->ccxt) (2.8)\n",
      "Requirement already satisfied: urllib3!=1.25.0,!=1.25.1,<1.26,>=1.21.1 in c:\\users\\codeninja\\anaconda3\\envs\\tensortrade_tf2\\lib\\site-packages (from requests>=2.18.4->ccxt) (1.25.6)\n",
      "Requirement already satisfied: chardet<3.1.0,>=3.0.2 in c:\\users\\codeninja\\anaconda3\\envs\\tensortrade_tf2\\lib\\site-packages (from requests>=2.18.4->ccxt) (3.0.4)\n",
      "Requirement already satisfied: pycares>=1.0.0 in c:\\users\\codeninja\\appdata\\roaming\\python\\python37\\site-packages (from aiodns==1.1.1; python_version >= \"3.5.2\"->ccxt) (3.0.0)\n",
      "Requirement already satisfied: multidict>=4.0 in c:\\users\\codeninja\\appdata\\roaming\\python\\python37\\site-packages (from yarl==1.1.0; python_version >= \"3.5.2\"->ccxt) (4.5.2)\n",
      "Requirement already satisfied: async-timeout<4.0,>=3.0 in c:\\users\\codeninja\\appdata\\roaming\\python\\python37\\site-packages (from aiohttp>=3.0.1; python_version >= \"3.5.2\"->ccxt) (3.0.1)\n",
      "Requirement already satisfied: attrs>=17.3.0 in c:\\users\\codeninja\\anaconda3\\envs\\tensortrade_tf2\\lib\\site-packages (from aiohttp>=3.0.1; python_version >= \"3.5.2\"->ccxt) (19.2.0)\n",
      "Requirement already satisfied: cffi!=1.11.3,>=1.8 in c:\\users\\codeninja\\appdata\\roaming\\python\\python37\\site-packages (from cryptography>=2.6.1->ccxt) (1.12.3)\n",
      "Requirement already satisfied: six>=1.4.1 in c:\\users\\codeninja\\anaconda3\\envs\\tensortrade_tf2\\lib\\site-packages (from cryptography>=2.6.1->ccxt) (1.12.0)\n",
      "Requirement already satisfied: asn1crypto>=0.21.0 in c:\\users\\codeninja\\appdata\\roaming\\python\\python37\\site-packages (from cryptography>=2.6.1->ccxt) (1.0.1)\n",
      "Requirement already satisfied: pycparser in c:\\users\\codeninja\\appdata\\roaming\\python\\python37\\site-packages (from cffi!=1.11.3,>=1.8->cryptography>=2.6.1->ccxt) (2.19)\n",
      "Installing collected packages: jdcal, et-xmlfile, openpyxl\n",
      "Successfully installed et-xmlfile-1.0.1 jdcal-1.4.1 openpyxl-3.0.0\n"
     ]
    }
   ],
   "source": [
    "# Install openpyxl and CCXT\n",
    "!pip install openpyxl ccxt"
   ]
  },
  {
   "cell_type": "code",
   "execution_count": 2,
   "metadata": {},
   "outputs": [],
   "source": [
    "import os\n",
    "from pathlib import Path\n",
    "\n",
    "import sys\n",
    "import csv\n",
    "\n",
    "# -----------------------------------------------------------------------------\n",
    "\n",
    "root = os.path.dirname(os.path.dirname(os.path.dirname(os.path.abspath(''))))\n",
    "sys.path.append(root + '/python')\n",
    "\n",
    "import ccxt\n",
    "\n",
    "\n",
    "# -----------------------------------------------------------------------------\n",
    "\n",
    "def retry_fetch_ohlcv(exchange, max_retries, symbol, timeframe, since, limit):\n",
    "    num_retries = 0\n",
    "    try:\n",
    "        num_retries += 1\n",
    "        ohlcv = exchange.fetch_ohlcv(symbol, timeframe, since, limit)\n",
    "        # print('Fetched', len(ohlcv), symbol, 'candles from', exchange.iso8601 (ohlcv[0][0]), 'to', exchange.iso8601 (ohlcv[-1][0]))\n",
    "        return ohlcv\n",
    "    except Exception:\n",
    "        if num_retries > max_retries:\n",
    "            raise  # Exception('Failed to fetch', timeframe, symbol, 'OHLCV in', max_retries, 'attempts')\n",
    "\n",
    "\n",
    "def scrape_ohlcv(exchange, max_retries, symbol, timeframe, since, limit):\n",
    "    earliest_timestamp = exchange.milliseconds()\n",
    "    timeframe_duration_in_seconds = exchange.parse_timeframe(timeframe)\n",
    "    timeframe_duration_in_ms = timeframe_duration_in_seconds * 1000\n",
    "    timedelta = limit * timeframe_duration_in_ms\n",
    "    all_ohlcv = []\n",
    "    while True:\n",
    "        fetch_since = earliest_timestamp - timedelta\n",
    "        ohlcv = retry_fetch_ohlcv(exchange, max_retries, symbol, timeframe, fetch_since, limit)\n",
    "        # if we have reached the beginning of history\n",
    "        if ohlcv[0][0] >= earliest_timestamp:\n",
    "            break\n",
    "        earliest_timestamp = ohlcv[0][0]\n",
    "        all_ohlcv = ohlcv + all_ohlcv\n",
    "        print(len(all_ohlcv), symbol, 'candles in total from', exchange.iso8601(all_ohlcv[0][0]), 'to', exchange.iso8601(all_ohlcv[-1][0]))\n",
    "        # if we have reached the checkpoint\n",
    "        if fetch_since < since:\n",
    "            break\n",
    "    return all_ohlcv\n",
    "\n",
    "\n",
    "def write_to_csv(filename, exchange, data):\n",
    "    p = Path(\"./data/raw/\", str(exchange))\n",
    "    p.mkdir(parents=True, exist_ok=True)\n",
    "    full_path = p / str(filename)\n",
    "    with Path(full_path).open('w+', newline='') as output_file:\n",
    "        csv_writer = csv.writer(output_file, delimiter=',', quotechar='\"', quoting=csv.QUOTE_MINIMAL)\n",
    "        csv_writer.writerows(data)\n",
    "\n",
    "\n",
    "def scrape_candles_to_csv(filename, exchange_id, max_retries, symbol, timeframe, since, limit):\n",
    "    # instantiate the exchange by id\n",
    "    exchange = getattr(ccxt, exchange_id)({\n",
    "        'enableRateLimit': True,  # required by the Manual\n",
    "    })\n",
    "    # convert since from string to milliseconds integer if needed\n",
    "    if isinstance(since, str):\n",
    "        since = exchange.parse8601(since)\n",
    "    # preload all markets from the exchange\n",
    "    exchange.load_markets()\n",
    "    # fetch all candles\n",
    "    ohlcv = scrape_ohlcv(exchange, max_retries, symbol, timeframe, since, limit)\n",
    "    # save them to csv file\n",
    "    write_to_csv(filename, exchange, ohlcv)\n",
    "    print('Saved', len(ohlcv), 'candles from', exchange.iso8601(ohlcv[0][0]), 'to', exchange.iso8601(ohlcv[-1][0]), 'to', filename)\n"
   ]
  },
  {
   "cell_type": "code",
   "execution_count": 3,
   "metadata": {},
   "outputs": [
    {
     "name": "stdout",
     "output_type": "stream",
     "text": [
      "1000 BTC/USDT candles in total from 2019-10-17T00:05:00.000Z to 2019-10-17T16:44:00.000Z\n",
      "2000 BTC/USDT candles in total from 2019-10-16T07:25:00.000Z to 2019-10-17T16:44:00.000Z\n",
      "3000 BTC/USDT candles in total from 2019-10-15T14:45:00.000Z to 2019-10-17T16:44:00.000Z\n",
      "4000 BTC/USDT candles in total from 2019-10-14T22:05:00.000Z to 2019-10-17T16:44:00.000Z\n",
      "5000 BTC/USDT candles in total from 2019-10-14T05:25:00.000Z to 2019-10-17T16:44:00.000Z\n",
      "6000 BTC/USDT candles in total from 2019-10-13T12:45:00.000Z to 2019-10-17T16:44:00.000Z\n",
      "7000 BTC/USDT candles in total from 2019-10-12T20:05:00.000Z to 2019-10-17T16:44:00.000Z\n",
      "8000 BTC/USDT candles in total from 2019-10-12T03:25:00.000Z to 2019-10-17T16:44:00.000Z\n",
      "9000 BTC/USDT candles in total from 2019-10-11T10:45:00.000Z to 2019-10-17T16:44:00.000Z\n",
      "10000 BTC/USDT candles in total from 2019-10-10T18:05:00.000Z to 2019-10-17T16:44:00.000Z\n",
      "11000 BTC/USDT candles in total from 2019-10-10T01:25:00.000Z to 2019-10-17T16:44:00.000Z\n",
      "12000 BTC/USDT candles in total from 2019-10-09T08:45:00.000Z to 2019-10-17T16:44:00.000Z\n",
      "13000 BTC/USDT candles in total from 2019-10-08T16:05:00.000Z to 2019-10-17T16:44:00.000Z\n",
      "14000 BTC/USDT candles in total from 2019-10-07T23:25:00.000Z to 2019-10-17T16:44:00.000Z\n",
      "15000 BTC/USDT candles in total from 2019-10-07T06:45:00.000Z to 2019-10-17T16:44:00.000Z\n",
      "16000 BTC/USDT candles in total from 2019-10-06T14:05:00.000Z to 2019-10-17T16:44:00.000Z\n",
      "17000 BTC/USDT candles in total from 2019-10-05T21:25:00.000Z to 2019-10-17T16:44:00.000Z\n",
      "18000 BTC/USDT candles in total from 2019-10-05T04:45:00.000Z to 2019-10-17T16:44:00.000Z\n",
      "19000 BTC/USDT candles in total from 2019-10-04T12:05:00.000Z to 2019-10-17T16:44:00.000Z\n",
      "20000 BTC/USDT candles in total from 2019-10-03T19:25:00.000Z to 2019-10-17T16:44:00.000Z\n",
      "21000 BTC/USDT candles in total from 2019-10-03T02:45:00.000Z to 2019-10-17T16:44:00.000Z\n",
      "22000 BTC/USDT candles in total from 2019-10-02T10:05:00.000Z to 2019-10-17T16:44:00.000Z\n",
      "23000 BTC/USDT candles in total from 2019-10-01T17:25:00.000Z to 2019-10-17T16:44:00.000Z\n",
      "24000 BTC/USDT candles in total from 2019-10-01T00:45:00.000Z to 2019-10-17T16:44:00.000Z\n",
      "25000 BTC/USDT candles in total from 2019-09-30T08:05:00.000Z to 2019-10-17T16:44:00.000Z\n",
      "Saved 25000 candles from 2019-09-30T08:05:00.000Z to 2019-10-17T16:44:00.000Z to btc_usdt_1m.csv\n"
     ]
    }
   ],
   "source": [
    "scrape_candles_to_csv('btc_usdt_1m.csv', 'binance', 3, 'BTC/USDT', '1m', '2019-10-01T00:00:00Z', 1000)\n",
    "# scrape_candles_to_csv('./data/raw/binance/eth_btc_1m.csv', 'binance', 3, 'ETH/BTC', '1m', '2018-01-01T00:00:00Z', 1000)\n",
    "# scrape_candles_to_csv('./data/raw/binance/ltc_btc_1m.csv', 'binance', 3, 'LTC/BTC', '1m', '2018-01-01T00:00:00Z', 1000)\n",
    "# scrape_candles_to_csv('./data/raw/binance/xlm_btc_1m.csv', 'binance', 3, 'XLM/BTC', '1m', '2018-01-01T00:00:00Z', 1000)"
   ]
  },
  {
   "cell_type": "code",
   "execution_count": null,
   "metadata": {},
   "outputs": [],
   "source": []
  }
 ],
 "metadata": {
  "kernelspec": {
   "display_name": "Python [conda env:tensortrade_tf2]",
   "language": "python",
   "name": "conda-env-tensortrade_tf2-py"
  }
 },
 "nbformat": 4,
 "nbformat_minor": 2
}
