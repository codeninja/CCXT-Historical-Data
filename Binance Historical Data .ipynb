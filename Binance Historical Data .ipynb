{
 "cells": [
  {
   "cell_type": "markdown",
   "metadata": {},
   "source": [
    "# Fetch historical data"
   ]
  },
  {
   "cell_type": "markdown",
   "metadata": {},
   "source": [
    "Python script to fetch historical data from binance using ccxt"
   ]
  },
  {
   "cell_type": "code",
   "execution_count": 5,
   "metadata": {},
   "outputs": [
    {
     "name": "stdout",
     "output_type": "stream",
     "text": [
      "Collecting openpyxl\n",
      "  Downloading https://files.pythonhosted.org/packages/6f/af/88ff9eef0b8f665aee1111ac6cede5ad12190c5bd726242bd2b26fc21b32/openpyxl-3.0.0.tar.gz (172kB)\n",
      "Collecting jdcal (from openpyxl)\n",
      "  Downloading https://files.pythonhosted.org/packages/f0/da/572cbc0bc582390480bbd7c4e93d14dc46079778ed915b505dc494b37c57/jdcal-1.4.1-py2.py3-none-any.whl\n",
      "Collecting et_xmlfile (from openpyxl)\n",
      "  Downloading https://files.pythonhosted.org/packages/22/28/a99c42aea746e18382ad9fb36f64c1c1f04216f41797f2f0fa567da11388/et_xmlfile-1.0.1.tar.gz\n",
      "Building wheels for collected packages: openpyxl, et-xmlfile\n",
      "  Building wheel for openpyxl (setup.py): started\n",
      "  Building wheel for openpyxl (setup.py): finished with status 'done'\n",
      "  Created wheel for openpyxl: filename=openpyxl-3.0.0-py2.py3-none-any.whl size=241193 sha256=8bc5909533679c0c1e54d9164a2c38f6848177764b3e3c9e8a5c742ebe9a69e7\n",
      "  Stored in directory: C:\\Users\\codeninja\\AppData\\Local\\pip\\Cache\\wheels\\34\\ee\\6c\\1279f7b70ea72432c2cef15dd3d915477cb3771d1618f6b8ef\n",
      "  Building wheel for et-xmlfile (setup.py): started\n",
      "  Building wheel for et-xmlfile (setup.py): finished with status 'done'\n",
      "  Created wheel for et-xmlfile: filename=et_xmlfile-1.0.1-cp37-none-any.whl size=8922 sha256=89a5e1f98f64484b70b26d922b0062a6fe4d338d98bb5c2437ea6a4c2a21d38f\n",
      "  Stored in directory: C:\\Users\\codeninja\\AppData\\Local\\pip\\Cache\\wheels\\2a\\77\\35\\0da0965a057698121fc7d8c5a7a9955cdbfb3cc4e2423cad39\n",
      "Successfully built openpyxl et-xmlfile\n",
      "Installing collected packages: jdcal, et-xmlfile, openpyxl\n",
      "Successfully installed et-xmlfile-1.0.1 jdcal-1.4.1 openpyxl-3.0.0\n"
     ]
    }
   ],
   "source": [
    "!pip install openpyxl"
   ]
  },
  {
   "cell_type": "code",
   "execution_count": 33,
   "metadata": {},
   "outputs": [
    {
     "name": "stdout",
     "output_type": "stream",
     "text": [
      "1000 BTC/USDT candles in total from 2019-10-11T10:20:00.000Z to 2019-10-12T02:59:00.000Z\n",
      "2000 BTC/USDT candles in total from 2019-10-10T17:40:00.000Z to 2019-10-12T02:59:00.000Z\n",
      "3000 BTC/USDT candles in total from 2019-10-10T01:00:00.000Z to 2019-10-12T02:59:00.000Z\n",
      "4000 BTC/USDT candles in total from 2019-10-09T08:20:00.000Z to 2019-10-12T02:59:00.000Z\n",
      "5000 BTC/USDT candles in total from 2019-10-08T15:40:00.000Z to 2019-10-12T02:59:00.000Z\n",
      "6000 BTC/USDT candles in total from 2019-10-07T23:00:00.000Z to 2019-10-12T02:59:00.000Z\n",
      "7000 BTC/USDT candles in total from 2019-10-07T06:20:00.000Z to 2019-10-12T02:59:00.000Z\n",
      "8000 BTC/USDT candles in total from 2019-10-06T13:40:00.000Z to 2019-10-12T02:59:00.000Z\n",
      "9000 BTC/USDT candles in total from 2019-10-05T21:00:00.000Z to 2019-10-12T02:59:00.000Z\n",
      "10000 BTC/USDT candles in total from 2019-10-05T04:20:00.000Z to 2019-10-12T02:59:00.000Z\n",
      "11000 BTC/USDT candles in total from 2019-10-04T11:40:00.000Z to 2019-10-12T02:59:00.000Z\n",
      "12000 BTC/USDT candles in total from 2019-10-03T19:00:00.000Z to 2019-10-12T02:59:00.000Z\n",
      "13000 BTC/USDT candles in total from 2019-10-03T02:20:00.000Z to 2019-10-12T02:59:00.000Z\n",
      "14000 BTC/USDT candles in total from 2019-10-02T09:40:00.000Z to 2019-10-12T02:59:00.000Z\n",
      "15000 BTC/USDT candles in total from 2019-10-01T17:00:00.000Z to 2019-10-12T02:59:00.000Z\n",
      "16000 BTC/USDT candles in total from 2019-10-01T00:20:00.000Z to 2019-10-12T02:59:00.000Z\n",
      "17000 BTC/USDT candles in total from 2019-09-30T07:40:00.000Z to 2019-10-12T02:59:00.000Z\n",
      "Saved 17000 candles from 2019-09-30T07:40:00.000Z to 2019-10-12T02:59:00.000Z to btc_usdt_1m.csv\n"
     ]
    }
   ],
   "source": [
    "# -*- coding: utf-8 -*-\n",
    "\n",
    "import os\n",
    "from pathlib import Path\n",
    "\n",
    "import sys\n",
    "import csv\n",
    "\n",
    "# -----------------------------------------------------------------------------\n",
    "\n",
    "root = os.path.dirname(os.path.dirname(os.path.dirname(os.path.abspath(''))))\n",
    "sys.path.append(root + '/python')\n",
    "\n",
    "import ccxt  # noqa: E402\n",
    "\n",
    "\n",
    "# -----------------------------------------------------------------------------\n",
    "\n",
    "def retry_fetch_ohlcv(exchange, max_retries, symbol, timeframe, since, limit):\n",
    "    num_retries = 0\n",
    "    try:\n",
    "        num_retries += 1\n",
    "        ohlcv = exchange.fetch_ohlcv(symbol, timeframe, since, limit)\n",
    "        # print('Fetched', len(ohlcv), symbol, 'candles from', exchange.iso8601 (ohlcv[0][0]), 'to', exchange.iso8601 (ohlcv[-1][0]))\n",
    "        return ohlcv\n",
    "    except Exception:\n",
    "        if num_retries > max_retries:\n",
    "            raise  # Exception('Failed to fetch', timeframe, symbol, 'OHLCV in', max_retries, 'attempts')\n",
    "\n",
    "\n",
    "def scrape_ohlcv(exchange, max_retries, symbol, timeframe, since, limit):\n",
    "    earliest_timestamp = exchange.milliseconds()\n",
    "    timeframe_duration_in_seconds = exchange.parse_timeframe(timeframe)\n",
    "    timeframe_duration_in_ms = timeframe_duration_in_seconds * 1000\n",
    "    timedelta = limit * timeframe_duration_in_ms\n",
    "    all_ohlcv = []\n",
    "    while True:\n",
    "        fetch_since = earliest_timestamp - timedelta\n",
    "        ohlcv = retry_fetch_ohlcv(exchange, max_retries, symbol, timeframe, fetch_since, limit)\n",
    "        # if we have reached the beginning of history\n",
    "        if ohlcv[0][0] >= earliest_timestamp:\n",
    "            break\n",
    "        earliest_timestamp = ohlcv[0][0]\n",
    "        all_ohlcv = ohlcv + all_ohlcv\n",
    "        print(len(all_ohlcv), symbol, 'candles in total from', exchange.iso8601(all_ohlcv[0][0]), 'to', exchange.iso8601(all_ohlcv[-1][0]))\n",
    "        # if we have reached the checkpoint\n",
    "        if fetch_since < since:\n",
    "            break\n",
    "    return all_ohlcv\n",
    "\n",
    "\n",
    "def write_to_csv(filename, exchange, data):\n",
    "    p = Path(\"./data/raw/\", str(exchange))\n",
    "    p.mkdir(parents=True, exist_ok=True)\n",
    "    full_path = p / str(filename)\n",
    "    with Path(full_path).open('w+', newline='') as output_file:\n",
    "        csv_writer = csv.writer(output_file, delimiter=',', quotechar='\"', quoting=csv.QUOTE_MINIMAL)\n",
    "        csv_writer.writerows(data)\n",
    "\n",
    "\n",
    "def scrape_candles_to_csv(filename, exchange_id, max_retries, symbol, timeframe, since, limit):\n",
    "    # instantiate the exchange by id\n",
    "    exchange = getattr(ccxt, exchange_id)({\n",
    "        'enableRateLimit': True,  # required by the Manual\n",
    "    })\n",
    "    # convert since from string to milliseconds integer if needed\n",
    "    if isinstance(since, str):\n",
    "        since = exchange.parse8601(since)\n",
    "    # preload all markets from the exchange\n",
    "    exchange.load_markets()\n",
    "    # fetch all candles\n",
    "    ohlcv = scrape_ohlcv(exchange, max_retries, symbol, timeframe, since, limit)\n",
    "    # save them to csv file\n",
    "    write_to_csv(filename, exchange, ohlcv)\n",
    "    print('Saved', len(ohlcv), 'candles from', exchange.iso8601(ohlcv[0][0]), 'to', exchange.iso8601(ohlcv[-1][0]), 'to', filename)\n",
    "\n",
    "\n",
    "# -----------------------------------------------------------------------------\n",
    "\n",
    "scrape_candles_to_csv('btc_usdt_1m.csv', 'binance', 3, 'BTC/USDT', '1m', '2019-10-01T00:00:00Z', 1000)\n",
    "# scrape_candles_to_csv('./data/raw/binance/eth_btc_1m.csv', 'binance', 3, 'ETH/BTC', '1m', '2018-01-01T00:00:00Z', 1000)\n",
    "# scrape_candles_to_csv('./data/raw/binance/ltc_btc_1m.csv', 'binance', 3, 'LTC/BTC', '1m', '2018-01-01T00:00:00Z', 1000)\n",
    "# scrape_candles_to_csv('./data/raw/binance/xlm_btc_1m.csv', 'binance', 3, 'XLM/BTC', '1m', '2018-01-01T00:00:00Z', 1000)"
   ]
  },
  {
   "cell_type": "code",
   "execution_count": null,
   "metadata": {},
   "outputs": [],
   "source": []
  }
 ],
 "metadata": {
  "kernelspec": {
   "display_name": "Python [conda env:tensortrade_tf2] *",
   "language": "python",
   "name": "conda-env-tensortrade_tf2-py"
  },
  "language_info": {
   "codemirror_mode": {
    "name": "ipython",
    "version": 3
   },
   "file_extension": ".py",
   "mimetype": "text/x-python",
   "name": "python",
   "nbconvert_exporter": "python",
   "pygments_lexer": "ipython3",
   "version": "3.7.4"
  }
 },
 "nbformat": 4,
 "nbformat_minor": 2
}
